{
  "cells": [
    {
      "cell_type": "code",
      "execution_count": 1,
      "metadata": {},
      "outputs": [
        {
          "name": "stdout",
          "output_type": "stream",
          "text": [
            "Defaulting to user installation because normal site-packages is not writeable\n",
            "Requirement already satisfied: pandas in /Users/sharvitkashikar/Library/Python/3.9/lib/python/site-packages (2.2.3)\n",
            "Requirement already satisfied: numpy in /Users/sharvitkashikar/Library/Python/3.9/lib/python/site-packages (2.0.2)\n",
            "Requirement already satisfied: matplotlib in /Users/sharvitkashikar/Library/Python/3.9/lib/python/site-packages (3.9.4)\n",
            "Requirement already satisfied: pytz>=2020.1 in /Users/sharvitkashikar/Library/Python/3.9/lib/python/site-packages (from pandas) (2025.1)\n",
            "Requirement already satisfied: python-dateutil>=2.8.2 in /Users/sharvitkashikar/Library/Python/3.9/lib/python/site-packages (from pandas) (2.9.0.post0)\n",
            "Requirement already satisfied: tzdata>=2022.7 in /Users/sharvitkashikar/Library/Python/3.9/lib/python/site-packages (from pandas) (2025.1)\n",
            "Requirement already satisfied: importlib-resources>=3.2.0 in /Users/sharvitkashikar/Library/Python/3.9/lib/python/site-packages (from matplotlib) (6.5.2)\n",
            "Requirement already satisfied: pyparsing>=2.3.1 in /Users/sharvitkashikar/Library/Python/3.9/lib/python/site-packages (from matplotlib) (3.2.1)\n",
            "Requirement already satisfied: packaging>=20.0 in /Users/sharvitkashikar/Library/Python/3.9/lib/python/site-packages (from matplotlib) (24.2)\n",
            "Requirement already satisfied: fonttools>=4.22.0 in /Users/sharvitkashikar/Library/Python/3.9/lib/python/site-packages (from matplotlib) (4.56.0)\n",
            "Requirement already satisfied: contourpy>=1.0.1 in /Users/sharvitkashikar/Library/Python/3.9/lib/python/site-packages (from matplotlib) (1.3.0)\n",
            "Requirement already satisfied: cycler>=0.10 in /Users/sharvitkashikar/Library/Python/3.9/lib/python/site-packages (from matplotlib) (0.12.1)\n",
            "Requirement already satisfied: pillow>=8 in /Users/sharvitkashikar/Library/Python/3.9/lib/python/site-packages (from matplotlib) (11.1.0)\n",
            "Requirement already satisfied: kiwisolver>=1.3.1 in /Users/sharvitkashikar/Library/Python/3.9/lib/python/site-packages (from matplotlib) (1.4.7)\n",
            "Requirement already satisfied: zipp>=3.1.0 in /Users/sharvitkashikar/Library/Python/3.9/lib/python/site-packages (from importlib-resources>=3.2.0->matplotlib) (3.21.0)\n",
            "Requirement already satisfied: six>=1.5 in /Library/Developer/CommandLineTools/Library/Frameworks/Python3.framework/Versions/3.9/lib/python3.9/site-packages (from python-dateutil>=2.8.2->pandas) (1.15.0)\n",
            "\u001b[33mWARNING: You are using pip version 21.2.4; however, version 25.0.1 is available.\n",
            "You should consider upgrading via the '/Library/Developer/CommandLineTools/usr/bin/python3 -m pip install --upgrade pip' command.\u001b[0m\n",
            "Note: you may need to restart the kernel to use updated packages.\n"
          ]
        }
      ],
      "source": [
        "pip install pandas numpy matplotlib"
      ]
    },
    {
      "cell_type": "code",
      "execution_count": 2,
      "metadata": {
        "id": "nGWnoDshbj0O"
      },
      "outputs": [],
      "source": [
        "\n",
        "import pandas as pd"
      ]
    },
    {
      "cell_type": "code",
      "execution_count": 15,
      "metadata": {
        "id": "Lu75wXv9aySl"
      },
      "outputs": [],
      "source": [
        "\n",
        "data={\n",
        "\n",
        "      'ID': [1,2,3,4,5,6],\n",
        "      'Name': ['mrudul','sharvit','ameya','avinya','Nandini','chandra'],\n",
        "      'Age' : [22,21,20,20,20,21],\n",
        "      'Country' : ['Maharashtra','Tamil Nadu','Kerala','Goa','Uttar Pradesh','Madhya Pradesh'],\n",
        "      'Sales': [2400,4250,1300,8100,15800,4030]\n",
        "\n",
        "}"
      ]
    },
    {
      "cell_type": "code",
      "execution_count": 16,
      "metadata": {
        "colab": {
          "base_uri": "https://localhost:8080/"
        },
        "id": "oT3gpyhucQ-2",
        "outputId": "1afaf3c9-b3f0-4bd7-b9f3-efbbb972097b"
      },
      "outputs": [
        {
          "name": "stdout",
          "output_type": "stream",
          "text": [
            "Orginal Dataset\n",
            "   ID     Name  Age         Country  Sales\n",
            "0   1   mrudul   22     Maharashtra   2400\n",
            "1   2  sharvit   21      Tamil Nadu   4250\n",
            "2   3    ameya   20          Kerala   1300\n",
            "3   4   avinya   20             Goa   8100\n",
            "4   5  Nandini   20   Uttar Pradesh  15800\n",
            "5   6  chandra   21  Madhya Pradesh   4030\n"
          ]
        }
      ],
      "source": [
        "\n",
        "df=pd.DataFrame(data)\n",
        "\n",
        "print(\"Orginal Dataset\")\n",
        "print(df)"
      ]
    },
    {
      "cell_type": "code",
      "execution_count": 18,
      "metadata": {
        "colab": {
          "base_uri": "https://localhost:8080/"
        },
        "id": "cMpb2JMvceUC",
        "outputId": "20a42fcb-edca-4f1e-95ec-2cfd61c0745f"
      },
      "outputs": [
        {
          "name": "stdout",
          "output_type": "stream",
          "text": [
            "Dataset after adding new column\n",
            "   ID     Name Name_Upper\n",
            "0   1   mrudul     MRUDUL\n",
            "1   2  sharvit    SHARVIT\n",
            "2   3    ameya      AMEYA\n",
            "3   4   avinya     AVINYA\n",
            "4   5  Nandini    NANDINI\n",
            "5   6  chandra    CHANDRA\n"
          ]
        }
      ],
      "source": [
        "\n",
        "df['Name_Upper']=df['Name'].str.upper()\n",
        "\n",
        "print(\"Dataset after adding new column\")\n",
        "print(df[['ID','Name','Name_Upper']])"
      ]
    },
    {
      "cell_type": "code",
      "execution_count": 19,
      "metadata": {
        "colab": {
          "base_uri": "https://localhost:8080/"
        },
        "id": "tMvcC4rVdZVU",
        "outputId": "8b4d9a9e-04ad-41df-d15b-869d5ce4d8d3"
      },
      "outputs": [
        {
          "name": "stdout",
          "output_type": "stream",
          "text": [
            "\n",
            "Multicast (Modified Copies):\n",
            "Copy 1 (Sales Increased):\n",
            "   ID     Name  Age         Country    Sales Name_Upper\n",
            "0   1   mrudul   22     Maharashtra   2640.0     MRUDUL\n",
            "1   2  sharvit   21      Tamil Nadu   4675.0    SHARVIT\n",
            "2   3    ameya   20          Kerala   1430.0      AMEYA\n",
            "3   4   avinya   20             Goa   8910.0     AVINYA\n",
            "4   5  Nandini   20   Uttar Pradesh  17380.0    NANDINI\n",
            "5   6  chandra   21  Madhya Pradesh   4433.0    CHANDRA\n",
            "\n",
            "Copy 2 (Age Increased):\n",
            "   ID     Name  Age         Country  Sales Name_Upper\n",
            "0   1   mrudul   27     Maharashtra   2400     MRUDUL\n",
            "1   2  sharvit   26      Tamil Nadu   4250    SHARVIT\n",
            "2   3    ameya   25          Kerala   1300      AMEYA\n",
            "3   4   avinya   25             Goa   8100     AVINYA\n",
            "4   5  Nandini   25   Uttar Pradesh  15800    NANDINI\n",
            "5   6  chandra   26  Madhya Pradesh   4030    CHANDRA\n"
          ]
        }
      ],
      "source": [
        "\n",
        "df_copy1=df.copy()\n",
        "df_copy2=df.copy()\n",
        "\n",
        "df_copy1['Sales'] *= 1.1\n",
        "df_copy2['Age'] += 5\n",
        "\n",
        "print(\"\\nMulticast (Modified Copies):\")\n",
        "print(\"Copy 1 (Sales Increased):\")\n",
        "print(df_copy1)\n",
        "print(\"\\nCopy 2 (Age Increased):\")\n",
        "print(df_copy2)"
      ]
    },
    {
      "cell_type": "code",
      "execution_count": 20,
      "metadata": {
        "colab": {
          "base_uri": "https://localhost:8080/"
        },
        "id": "NqX3vYK6fXG6",
        "outputId": "e1ad973e-cdbb-4b47-b05a-2c9c19f1ecf4"
      },
      "outputs": [
        {
          "name": "stdout",
          "output_type": "stream",
          "text": [
            "\n",
            "Conditional Split:\n",
            "High Sales:\n",
            "   ID     Name  Age         Country  Sales Name_Upper\n",
            "0   1   mrudul   22     Maharashtra   2400     MRUDUL\n",
            "1   2  sharvit   21      Tamil Nadu   4250    SHARVIT\n",
            "2   3    ameya   20          Kerala   1300      AMEYA\n",
            "3   4   avinya   20             Goa   8100     AVINYA\n",
            "4   5  Nandini   20   Uttar Pradesh  15800    NANDINI\n",
            "5   6  chandra   21  Madhya Pradesh   4030    CHANDRA\n",
            "\n",
            "Low Sales:\n",
            "Empty DataFrame\n",
            "Columns: [ID, Name, Age, Country, Sales, Name_Upper]\n",
            "Index: []\n"
          ]
        }
      ],
      "source": [
        "\n",
        "high_sales=df[df['Sales']>300]\n",
        "low_sales=df[df['Sales']<=300]\n",
        "print(\"\\nConditional Split:\")\n",
        "print(\"High Sales:\")\n",
        "print(high_sales)\n",
        "print(\"\\nLow Sales:\")\n",
        "print(low_sales)"
      ]
    },
    {
      "cell_type": "code",
      "execution_count": 21,
      "metadata": {
        "colab": {
          "base_uri": "https://localhost:8080/"
        },
        "id": "lNTFgCA0hIW2",
        "outputId": "25517f69-69da-4031-dfe4-fb9f9a44b01d"
      },
      "outputs": [
        {
          "name": "stdout",
          "output_type": "stream",
          "text": [
            "\n",
            "Aggregation:\n",
            "          Country  Sales\n",
            "0             Goa   8100\n",
            "1          Kerala   1300\n",
            "2  Madhya Pradesh   4030\n",
            "3     Maharashtra   2400\n",
            "4      Tamil Nadu   4250\n",
            "5   Uttar Pradesh  15800\n"
          ]
        }
      ],
      "source": [
        "\n",
        "agg_df=df.groupby('Country')['Sales'].sum().reset_index()\n",
        "print(\"\\nAggregation:\")\n",
        "print(agg_df)"
      ]
    },
    {
      "cell_type": "code",
      "execution_count": 22,
      "metadata": {
        "colab": {
          "base_uri": "https://localhost:8080/"
        },
        "id": "zO8OV6EhmDHO",
        "outputId": "cc7dd2ea-9c5d-4194-e31f-0a28c17340f4"
      },
      "outputs": [
        {
          "name": "stdout",
          "output_type": "stream",
          "text": [
            "\n",
            "Sorted Data:\n",
            "   ID     Name  Age         Country  Sales Name_Upper\n",
            "4   5  Nandini   20   Uttar Pradesh  15800    NANDINI\n",
            "3   4   avinya   20             Goa   8100     AVINYA\n",
            "1   2  sharvit   21      Tamil Nadu   4250    SHARVIT\n",
            "5   6  chandra   21  Madhya Pradesh   4030    CHANDRA\n",
            "0   1   mrudul   22     Maharashtra   2400     MRUDUL\n",
            "2   3    ameya   20          Kerala   1300      AMEYA\n"
          ]
        }
      ],
      "source": [
        "\n",
        "sorted_df=df.sort_values(by='Sales',ascending=False)\n",
        "print(\"\\nSorted Data:\")\n",
        "print(sorted_df)"
      ]
    },
    {
      "cell_type": "code",
      "execution_count": 23,
      "metadata": {
        "colab": {
          "base_uri": "https://localhost:8080/"
        },
        "id": "UNX96Knon9yG",
        "outputId": "39374d5d-7862-4173-b706-c482588bbff1"
      },
      "outputs": [
        {
          "name": "stdout",
          "output_type": "stream",
          "text": [
            "\n",
            "Derived Column (Sales Category):\n",
            "   ID     Name  Sales Sales_Category\n",
            "0   1   mrudul   2400           High\n",
            "1   2  sharvit   4250           High\n",
            "2   3    ameya   1300           High\n",
            "3   4   avinya   8100           High\n",
            "4   5  Nandini  15800           High\n",
            "5   6  chandra   4030           High\n"
          ]
        }
      ],
      "source": [
        "\n",
        "df['Sales_Category']=df['Sales'].apply(lambda x: 'High' if x>300 else 'Low')\n",
        "print(\"\\nDerived Column (Sales Category):\")\n",
        "print(df[['ID','Name','Sales','Sales_Category']])"
      ]
    }
  ],
  "metadata": {
    "colab": {
      "provenance": []
    },
    "kernelspec": {
      "display_name": "Python 3",
      "name": "python3"
    },
    "language_info": {
      "codemirror_mode": {
        "name": "ipython",
        "version": 3
      },
      "file_extension": ".py",
      "mimetype": "text/x-python",
      "name": "python",
      "nbconvert_exporter": "python",
      "pygments_lexer": "ipython3",
      "version": "3.9.6"
    }
  },
  "nbformat": 4,
  "nbformat_minor": 0
}
